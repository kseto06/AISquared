{
 "cells": [
  {
   "cell_type": "markdown",
   "metadata": {},
   "source": [
    "## Install required dependencies:"
   ]
  },
  {
   "cell_type": "code",
   "execution_count": null,
   "metadata": {},
   "outputs": [],
   "source": [
    "%pip install gymnasium\n",
    "%pip install stable-baselines3\n",
    "%pip install swig\n",
    "%pip install 'gymnasium[box2d]'\n",
    "%pip install numpy\n",
    "%pip install torch"
   ]
  },
  {
   "cell_type": "markdown",
   "metadata": {},
   "source": [
    "## Custom PPO Setup\n",
    "\n",
    "Uses custom LSTM+PPO PyTorch neural network setup/architecture for RL self-play (inspired by OpenAI's Dota 2 paper) and SB3's PPO implementation to train the agent with."
   ]
  },
  {
   "cell_type": "code",
   "execution_count": null,
   "metadata": {},
   "outputs": [],
   "source": [
    "import gymnasium as gym\n",
    "import numpy as np\n",
    "import torch\n",
    "import torch.nn as nn\n",
    "# from pettingzoo.butterfly import cooperative_pong_v5\n",
    "from stable_baselines3.common.torch_layers import BaseFeaturesExtractor\n",
    "from stable_baselines3.common.policies import ActorCriticPolicy\n",
    "from stable_baselines3 import PPO\n",
    "from stable_baselines3.common.vec_env import VecEnv, DummyVecEnv\n",
    "from stable_baselines3.common.env_util import make_vec_env\n",
    "from stable_baselines3.common.callbacks import BaseCallback\n",
    "\n",
    "class MultiAgentPPO(gym.Env):\n",
    "    '''\n",
    "    Define the class for the custom multi-agent PPO\n",
    "    Use LSTM + PPO NN for self-play\n",
    "    '''\n",
    "\n",
    "    pass\n",
    "\n",
    "class CustomNN(BaseFeaturesExtractor):\n",
    "    def __init__(self, obs_space: gym.spaces.Box, features_dim: int):\n",
    "        super().__init__(obs_space, features_dim)\n",
    "        # Layers\n",
    "        self.input = nn.Linear(in_features=obs_space.shape[0], out_features=obs_space.shape[0]) #input, output\n",
    "        self.LSTM = nn.LSTM(input_size=obs_space.shape[0], hidden_size=512, num_layers=1, batch_first=True)\n",
    "        self.hidden_1 = nn.Linear(in_features=512, out_features=128)\n",
    "        self.relu = nn.ReLU()\n",
    "        self.hidden_2 = nn.Linear(in_features=128, out_features=64)\n",
    "        # ReLU here\n",
    "        self.output = nn.Linear(in_features=64, out_features=features_dim)\n",
    "\n",
    "    def forward(self, observations: torch.Tensor) -> torch.Tensor:\n",
    "        x = self.input(observations)\n",
    "\n",
    "        # Adjust to 3D Tensor for LSTM if currently 2D\n",
    "        if observations.dim() == 2:\n",
    "            observations = observations.unsqueeze(1)\n",
    "\n",
    "        x, _ = self.LSTM(x)\n",
    "        x = self.hidden_1(x.squeeze(1)) #Use last hidden state of LSTM\n",
    "        x = self.relu(x)\n",
    "        x = self.hidden_2(x)\n",
    "        x = self.relu(x)\n",
    "        x = self.output(x)\n",
    "        return x\n",
    "\n",
    "class CustomPolicy(ActorCriticPolicy):\n",
    "    def __init__(self, *args, **kwargs):\n",
    "        super().__init__(*args, **kwargs,\n",
    "                            features_extractor_class=CustomNN,\n",
    "                            features_extractor_kwargs=dict(features_dim=64))\n",
    "class Logger(BaseCallback):\n",
    "    '''\n",
    "    This function logs the agent's rewards and policy losses overtime \n",
    "    '''\n",
    "    def __init__(self):\n",
    "        super().__init__()\n",
    "        self.rewards = []\n",
    "        self.losses = []\n",
    "\n",
    "    def _on_step(self) -> bool:\n",
    "        reward = self.locals.get(\"rewards\", [])\n",
    "        loss = self.locals.get(\"loss\", None)\n",
    "    \n",
    "        if reward:\n",
    "            self.rewards.append(reward)\n",
    "        if loss:\n",
    "            self.losses.append(loss)\n",
    "        \n",
    "        return True\n",
    "\n",
    "if __name__ == '__main__':\n",
    "    # Currently testing on Lunar Lander\n",
    "    env = gym.make(\"LunarLander-v2\")\n",
    "\n",
    "    model = PPO(policy=CustomPolicy, env=env, verbose=0) #Verbose set to zero to prevent excessive output logging\n",
    "    logger = Logger()\n",
    "    model.learn(total_timesteps=100000, callback=logger)\n",
    "    model.save(\"custom_ppo_lunar_lander\")\n",
    "\n",
    "    obs = env.reset()\n",
    "    done = False\n",
    "    while not done:\n",
    "        actions, states = model.predict(obs, deterministic=True)\n",
    "        obs, rewards, dones, info = env.step(actions)\n",
    "        env.render()\n",
    "        done = any(dones)"
   ]
  },
  {
   "cell_type": "markdown",
   "metadata": {},
   "source": [
    "## Plotting"
   ]
  },
  {
   "cell_type": "code",
   "execution_count": null,
   "metadata": {},
   "outputs": [],
   "source": [
    "# Visualize the rewards and losses\n",
    "import matplotlib.pyplot as plt\n",
    "\n",
    "plt.plot(logger.rewards)\n",
    "plt.title(\"Rewards over Episodes\")\n",
    "plt.xlabel(\"Episodes\")\n",
    "plt.ylabel(\"Rewards\")\n",
    "plt.show()\n",
    "\n",
    "plt.plot(logger.losses)\n",
    "plt.title(\"Policy Losses over Timesteps\")\n",
    "plt.xlabel(\"Timesteps\")\n",
    "plt.ylabel(\"Loss\")\n",
    "plt.show()"
   ]
  }
 ],
 "metadata": {
  "kernelspec": {
   "display_name": "Python 3",
   "language": "python",
   "name": "python3"
  },
  "language_info": {
   "codemirror_mode": {
    "name": "ipython",
    "version": 3
   },
   "file_extension": ".py",
   "mimetype": "text/x-python",
   "name": "python",
   "nbconvert_exporter": "python",
   "pygments_lexer": "ipython3",
   "version": "3.12.5"
  }
 },
 "nbformat": 4,
 "nbformat_minor": 2
}
